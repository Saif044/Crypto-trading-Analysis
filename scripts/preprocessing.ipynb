{
 "cells": [
  {
   "cell_type": "markdown",
   "id": "4a2868f4-7cef-4a91-a306-7109a41993a4",
   "metadata": {},
   "source": [
    "### Cleaning data from \"crypto_name_symbol.csv\" file"
   ]
  },
  {
   "cell_type": "code",
   "execution_count": 4,
   "id": "62aaafe1-eb4a-4650-9858-ae2fda941b9f",
   "metadata": {},
   "outputs": [],
   "source": [
    "import pandas as pd"
   ]
  },
  {
   "cell_type": "code",
   "execution_count": 6,
   "id": "efcc3db3-6d92-4607-96c1-4fed68dd3c7f",
   "metadata": {},
   "outputs": [
    {
     "data": {
      "text/html": [
       "<div>\n",
       "<style scoped>\n",
       "    .dataframe tbody tr th:only-of-type {\n",
       "        vertical-align: middle;\n",
       "    }\n",
       "\n",
       "    .dataframe tbody tr th {\n",
       "        vertical-align: top;\n",
       "    }\n",
       "\n",
       "    .dataframe thead th {\n",
       "        text-align: right;\n",
       "    }\n",
       "</style>\n",
       "<table border=\"1\" class=\"dataframe\">\n",
       "  <thead>\n",
       "    <tr style=\"text-align: right;\">\n",
       "      <th></th>\n",
       "      <th>Symbol</th>\n",
       "      <th>Image URLS</th>\n",
       "      <th>Name</th>\n",
       "      <th>Price</th>\n",
       "      <th>Change</th>\n",
       "      <th>Change %</th>\n",
       "      <th>Market Cap</th>\n",
       "      <th>Volume</th>\n",
       "      <th>Volume In Currency (24hr)</th>\n",
       "      <th>Total Volume All Currencies (24hr)</th>\n",
       "      <th>Circulating Supply</th>\n",
       "      <th>52 Wk Change %</th>\n",
       "    </tr>\n",
       "  </thead>\n",
       "  <tbody>\n",
       "    <tr>\n",
       "      <th>0</th>\n",
       "      <td>BTC-USD</td>\n",
       "      <td>https://s2.coinmarketcap.com/static/img/coins/...</td>\n",
       "      <td>Bitcoin USD</td>\n",
       "      <td>102,880.30</td>\n",
       "      <td>+3,494.78</td>\n",
       "      <td>(+3.52%)</td>\n",
       "      <td>2.039T</td>\n",
       "      <td>51.401B</td>\n",
       "      <td>51.401B</td>\n",
       "      <td>51.401B</td>\n",
       "      <td>19.816M</td>\n",
       "      <td>139.06%</td>\n",
       "    </tr>\n",
       "    <tr>\n",
       "      <th>1</th>\n",
       "      <td>ETH-USD</td>\n",
       "      <td>https://s2.coinmarketcap.com/static/img/coins/...</td>\n",
       "      <td>Ethereum USD</td>\n",
       "      <td>3,164.39</td>\n",
       "      <td>+90.21</td>\n",
       "      <td>(+2.93%)</td>\n",
       "      <td>381.347B</td>\n",
       "      <td>20.954B</td>\n",
       "      <td>20.954B</td>\n",
       "      <td>20.954B</td>\n",
       "      <td>120.512M</td>\n",
       "      <td>38.03%</td>\n",
       "    </tr>\n",
       "    <tr>\n",
       "      <th>2</th>\n",
       "      <td>XRP-USD</td>\n",
       "      <td>https://s2.coinmarketcap.com/static/img/coins/...</td>\n",
       "      <td>XRP USD</td>\n",
       "      <td>3.1692</td>\n",
       "      <td>+0.2663</td>\n",
       "      <td>(+9.17%)</td>\n",
       "      <td>182.676B</td>\n",
       "      <td>9.615B</td>\n",
       "      <td>9.615B</td>\n",
       "      <td>9.615B</td>\n",
       "      <td>57.641B</td>\n",
       "      <td>492.57%</td>\n",
       "    </tr>\n",
       "    <tr>\n",
       "      <th>3</th>\n",
       "      <td>USDT-USD</td>\n",
       "      <td>https://s2.coinmarketcap.com/static/img/coins/...</td>\n",
       "      <td>Tether USDt USD</td>\n",
       "      <td>0.999900</td>\n",
       "      <td>+0.000275</td>\n",
       "      <td>(+0.03%)</td>\n",
       "      <td>139.442B</td>\n",
       "      <td>95.082B</td>\n",
       "      <td>95.082B</td>\n",
       "      <td>95.082B</td>\n",
       "      <td>139.457B</td>\n",
       "      <td>-0.04%</td>\n",
       "    </tr>\n",
       "    <tr>\n",
       "      <th>4</th>\n",
       "      <td>SOL-USD</td>\n",
       "      <td>https://s2.coinmarketcap.com/static/img/coins/...</td>\n",
       "      <td>Solana USD</td>\n",
       "      <td>233.80</td>\n",
       "      <td>+7.32</td>\n",
       "      <td>(+3.23%)</td>\n",
       "      <td>113.784B</td>\n",
       "      <td>5.38B</td>\n",
       "      <td>5.38B</td>\n",
       "      <td>5.38B</td>\n",
       "      <td>486.668M</td>\n",
       "      <td>137.39%</td>\n",
       "    </tr>\n",
       "  </tbody>\n",
       "</table>\n",
       "</div>"
      ],
      "text/plain": [
       "     Symbol                                         Image URLS  \\\n",
       "0   BTC-USD  https://s2.coinmarketcap.com/static/img/coins/...   \n",
       "1   ETH-USD  https://s2.coinmarketcap.com/static/img/coins/...   \n",
       "2   XRP-USD  https://s2.coinmarketcap.com/static/img/coins/...   \n",
       "3  USDT-USD  https://s2.coinmarketcap.com/static/img/coins/...   \n",
       "4   SOL-USD  https://s2.coinmarketcap.com/static/img/coins/...   \n",
       "\n",
       "              Name       Price     Change  Change % Market Cap   Volume  \\\n",
       "0      Bitcoin USD  102,880.30  +3,494.78  (+3.52%)     2.039T  51.401B   \n",
       "1     Ethereum USD    3,164.39     +90.21  (+2.93%)   381.347B  20.954B   \n",
       "2          XRP USD      3.1692    +0.2663  (+9.17%)   182.676B   9.615B   \n",
       "3  Tether USDt USD    0.999900  +0.000275  (+0.03%)   139.442B  95.082B   \n",
       "4       Solana USD      233.80      +7.32  (+3.23%)   113.784B    5.38B   \n",
       "\n",
       "  Volume In Currency (24hr) Total Volume All Currencies (24hr)  \\\n",
       "0                   51.401B                            51.401B   \n",
       "1                   20.954B                            20.954B   \n",
       "2                    9.615B                             9.615B   \n",
       "3                   95.082B                            95.082B   \n",
       "4                     5.38B                              5.38B   \n",
       "\n",
       "  Circulating Supply 52 Wk Change %  \n",
       "0            19.816M        139.06%  \n",
       "1           120.512M         38.03%  \n",
       "2            57.641B        492.57%  \n",
       "3           139.457B         -0.04%  \n",
       "4           486.668M        137.39%  "
      ]
     },
     "execution_count": 6,
     "metadata": {},
     "output_type": "execute_result"
    }
   ],
   "source": [
    "df = pd.read_csv(\"crypto_name_symbol.csv\")\n",
    "df.head()"
   ]
  },
  {
   "cell_type": "markdown",
   "id": "d0536d18-e991-4a69-a252-94a938ed1a9c",
   "metadata": {},
   "source": [
    "Checking For Null Data"
   ]
  },
  {
   "cell_type": "code",
   "execution_count": 11,
   "id": "556d327f-d2b0-465a-870d-3a4a365bde59",
   "metadata": {},
   "outputs": [
    {
     "data": {
      "text/plain": [
       "Symbol                                0\n",
       "Image URLS                            0\n",
       "Name                                  0\n",
       "Price                                 0\n",
       "Change                                0\n",
       "Change %                              0\n",
       "Market Cap                            0\n",
       "Volume                                0\n",
       "Volume In Currency (24hr)             0\n",
       "Total Volume All Currencies (24hr)    0\n",
       "Circulating Supply                    0\n",
       "52 Wk Change %                        0\n",
       "dtype: int64"
      ]
     },
     "execution_count": 11,
     "metadata": {},
     "output_type": "execute_result"
    }
   ],
   "source": [
    "df.isnull().sum()"
   ]
  },
  {
   "cell_type": "markdown",
   "id": "834ff900-4b28-4db5-8d02-ec1c9eef5437",
   "metadata": {},
   "source": [
    "Checking for duplicate rows"
   ]
  },
  {
   "cell_type": "code",
   "execution_count": 14,
   "id": "9b65b28c-5d14-4c19-bbb0-60ccaa7d1cc9",
   "metadata": {},
   "outputs": [
    {
     "name": "stdout",
     "output_type": "stream",
     "text": [
      "0\n"
     ]
    }
   ],
   "source": [
    "#Counts the number of duplicate\n",
    "print(df.duplicated().sum())"
   ]
  },
  {
   "cell_type": "code",
   "execution_count": 15,
   "id": "6607e542-bf94-49a1-a431-a0962112086b",
   "metadata": {},
   "outputs": [],
   "source": [
    "# Removing \"USD\" From Name Column\n",
    "df[\"Name\"] = df[\"Name\"].apply(lambda x: x[:-4])"
   ]
  },
  {
   "cell_type": "code",
   "execution_count": 17,
   "id": "e2d16fc6-67f6-4cca-9c56-5135fc745faf",
   "metadata": {},
   "outputs": [],
   "source": [
    "#removing \"()\" from Change% Column\n",
    "\n",
    "df['Change %'] = (df['Change %'].str.replace(r'[\\(\\)]', '', regex=True))"
   ]
  },
  {
   "cell_type": "code",
   "execution_count": 20,
   "id": "6e71550d-e699-47b2-8596-7f52004e6054",
   "metadata": {},
   "outputs": [],
   "source": [
    "# Converting Trillion billion and million etc data to numeric data for later analysing purpose\n",
    "def convert_to_numeric(value):\n",
    "    if isinstance(value, str):\n",
    "        multiplier = 1\n",
    "        if value.endswith(\"T\"):\n",
    "            multiplier = 1e12\n",
    "            value = value[:-1]\n",
    "        elif value.endswith(\"B\"):\n",
    "            multiplier = 1e9\n",
    "            value = value[:-1]\n",
    "        elif value.endswith(\"M\"):\n",
    "            multiplier = 1e6\n",
    "            value = value[:-1]\n",
    "        elif value.endswith(\"K\"):\n",
    "            multiplier = 1e3\n",
    "            value = value[:-1]\n",
    "        return float(value) * multiplier\n",
    "    return value\n",
    "df[['Market Cap', 'Volume', 'Volume In Currency (24hr)', \n",
    "    'Total Volume All Currencies (24hr)', 'Circulating Supply']] = df[['Market Cap', 'Volume', 'Volume In Currency (24hr)', \n",
    "                                                                       'Total Volume All Currencies (24hr)', 'Circulating Supply']].map(convert_to_numeric)\n",
    "    \n",
    "\n"
   ]
  },
  {
   "cell_type": "code",
   "execution_count": 21,
   "id": "5b7df18a-bb9b-4f56-8b04-1af5a381c19a",
   "metadata": {},
   "outputs": [
    {
     "data": {
      "text/html": [
       "<div>\n",
       "<style scoped>\n",
       "    .dataframe tbody tr th:only-of-type {\n",
       "        vertical-align: middle;\n",
       "    }\n",
       "\n",
       "    .dataframe tbody tr th {\n",
       "        vertical-align: top;\n",
       "    }\n",
       "\n",
       "    .dataframe thead th {\n",
       "        text-align: right;\n",
       "    }\n",
       "</style>\n",
       "<table border=\"1\" class=\"dataframe\">\n",
       "  <thead>\n",
       "    <tr style=\"text-align: right;\">\n",
       "      <th></th>\n",
       "      <th>Symbol</th>\n",
       "      <th>Image URLS</th>\n",
       "      <th>Name</th>\n",
       "      <th>Price</th>\n",
       "      <th>Change</th>\n",
       "      <th>Change %</th>\n",
       "      <th>Market Cap</th>\n",
       "      <th>Volume</th>\n",
       "      <th>Volume In Currency (24hr)</th>\n",
       "      <th>Total Volume All Currencies (24hr)</th>\n",
       "      <th>Circulating Supply</th>\n",
       "      <th>52 Wk Change %</th>\n",
       "    </tr>\n",
       "  </thead>\n",
       "  <tbody>\n",
       "    <tr>\n",
       "      <th>0</th>\n",
       "      <td>BTC-USD</td>\n",
       "      <td>https://s2.coinmarketcap.com/static/img/coins/...</td>\n",
       "      <td>Bitcoin</td>\n",
       "      <td>102,880.30</td>\n",
       "      <td>+3,494.78</td>\n",
       "      <td>+3.52%</td>\n",
       "      <td>2.039000e+12</td>\n",
       "      <td>5.140100e+10</td>\n",
       "      <td>5.140100e+10</td>\n",
       "      <td>5.140100e+10</td>\n",
       "      <td>1.981600e+07</td>\n",
       "      <td>139.06%</td>\n",
       "    </tr>\n",
       "    <tr>\n",
       "      <th>1</th>\n",
       "      <td>ETH-USD</td>\n",
       "      <td>https://s2.coinmarketcap.com/static/img/coins/...</td>\n",
       "      <td>Ethereum</td>\n",
       "      <td>3,164.39</td>\n",
       "      <td>+90.21</td>\n",
       "      <td>+2.93%</td>\n",
       "      <td>3.813470e+11</td>\n",
       "      <td>2.095400e+10</td>\n",
       "      <td>2.095400e+10</td>\n",
       "      <td>2.095400e+10</td>\n",
       "      <td>1.205120e+08</td>\n",
       "      <td>38.03%</td>\n",
       "    </tr>\n",
       "    <tr>\n",
       "      <th>2</th>\n",
       "      <td>XRP-USD</td>\n",
       "      <td>https://s2.coinmarketcap.com/static/img/coins/...</td>\n",
       "      <td>XRP</td>\n",
       "      <td>3.1692</td>\n",
       "      <td>+0.2663</td>\n",
       "      <td>+9.17%</td>\n",
       "      <td>1.826760e+11</td>\n",
       "      <td>9.615000e+09</td>\n",
       "      <td>9.615000e+09</td>\n",
       "      <td>9.615000e+09</td>\n",
       "      <td>5.764100e+10</td>\n",
       "      <td>492.57%</td>\n",
       "    </tr>\n",
       "    <tr>\n",
       "      <th>3</th>\n",
       "      <td>USDT-USD</td>\n",
       "      <td>https://s2.coinmarketcap.com/static/img/coins/...</td>\n",
       "      <td>Tether USDt</td>\n",
       "      <td>0.999900</td>\n",
       "      <td>+0.000275</td>\n",
       "      <td>+0.03%</td>\n",
       "      <td>1.394420e+11</td>\n",
       "      <td>9.508200e+10</td>\n",
       "      <td>9.508200e+10</td>\n",
       "      <td>9.508200e+10</td>\n",
       "      <td>1.394570e+11</td>\n",
       "      <td>-0.04%</td>\n",
       "    </tr>\n",
       "    <tr>\n",
       "      <th>4</th>\n",
       "      <td>SOL-USD</td>\n",
       "      <td>https://s2.coinmarketcap.com/static/img/coins/...</td>\n",
       "      <td>Solana</td>\n",
       "      <td>233.80</td>\n",
       "      <td>+7.32</td>\n",
       "      <td>+3.23%</td>\n",
       "      <td>1.137840e+11</td>\n",
       "      <td>5.380000e+09</td>\n",
       "      <td>5.380000e+09</td>\n",
       "      <td>5.380000e+09</td>\n",
       "      <td>4.866680e+08</td>\n",
       "      <td>137.39%</td>\n",
       "    </tr>\n",
       "  </tbody>\n",
       "</table>\n",
       "</div>"
      ],
      "text/plain": [
       "     Symbol                                         Image URLS         Name  \\\n",
       "0   BTC-USD  https://s2.coinmarketcap.com/static/img/coins/...      Bitcoin   \n",
       "1   ETH-USD  https://s2.coinmarketcap.com/static/img/coins/...     Ethereum   \n",
       "2   XRP-USD  https://s2.coinmarketcap.com/static/img/coins/...          XRP   \n",
       "3  USDT-USD  https://s2.coinmarketcap.com/static/img/coins/...  Tether USDt   \n",
       "4   SOL-USD  https://s2.coinmarketcap.com/static/img/coins/...       Solana   \n",
       "\n",
       "        Price     Change Change %    Market Cap        Volume  \\\n",
       "0  102,880.30  +3,494.78   +3.52%  2.039000e+12  5.140100e+10   \n",
       "1    3,164.39     +90.21   +2.93%  3.813470e+11  2.095400e+10   \n",
       "2      3.1692    +0.2663   +9.17%  1.826760e+11  9.615000e+09   \n",
       "3    0.999900  +0.000275   +0.03%  1.394420e+11  9.508200e+10   \n",
       "4      233.80      +7.32   +3.23%  1.137840e+11  5.380000e+09   \n",
       "\n",
       "   Volume In Currency (24hr)  Total Volume All Currencies (24hr)  \\\n",
       "0               5.140100e+10                        5.140100e+10   \n",
       "1               2.095400e+10                        2.095400e+10   \n",
       "2               9.615000e+09                        9.615000e+09   \n",
       "3               9.508200e+10                        9.508200e+10   \n",
       "4               5.380000e+09                        5.380000e+09   \n",
       "\n",
       "   Circulating Supply 52 Wk Change %  \n",
       "0        1.981600e+07        139.06%  \n",
       "1        1.205120e+08         38.03%  \n",
       "2        5.764100e+10        492.57%  \n",
       "3        1.394570e+11         -0.04%  \n",
       "4        4.866680e+08        137.39%  "
      ]
     },
     "execution_count": 21,
     "metadata": {},
     "output_type": "execute_result"
    }
   ],
   "source": [
    "df.head()"
   ]
  },
  {
   "cell_type": "code",
   "execution_count": 22,
   "id": "c7348a3a-30f4-473f-8f00-91c14417241f",
   "metadata": {},
   "outputs": [],
   "source": [
    "#exporting the prepocessed data\n",
    "\n",
    "df.to_csv(\"crypto_name_symbol_preprocessed.csv\",index=True)"
   ]
  },
  {
   "cell_type": "markdown",
   "id": "1aeae247-10f2-44e9-b9d4-3a6ebddd99b9",
   "metadata": {},
   "source": [
    "### Cleaning data from \"historical_data.csv\" file"
   ]
  },
  {
   "cell_type": "code",
   "execution_count": 23,
   "id": "5304ed41-65eb-4490-8eb7-c3020ecb595a",
   "metadata": {},
   "outputs": [
    {
     "data": {
      "text/html": [
       "<div>\n",
       "<style scoped>\n",
       "    .dataframe tbody tr th:only-of-type {\n",
       "        vertical-align: middle;\n",
       "    }\n",
       "\n",
       "    .dataframe tbody tr th {\n",
       "        vertical-align: top;\n",
       "    }\n",
       "\n",
       "    .dataframe thead th {\n",
       "        text-align: right;\n",
       "    }\n",
       "</style>\n",
       "<table border=\"1\" class=\"dataframe\">\n",
       "  <thead>\n",
       "    <tr style=\"text-align: right;\">\n",
       "      <th></th>\n",
       "      <th>Date</th>\n",
       "      <th>Open</th>\n",
       "      <th>High</th>\n",
       "      <th>Low</th>\n",
       "      <th>Close</th>\n",
       "      <th>Adj</th>\n",
       "      <th>Volume</th>\n",
       "      <th>Symbol</th>\n",
       "    </tr>\n",
       "  </thead>\n",
       "  <tbody>\n",
       "    <tr>\n",
       "      <th>0</th>\n",
       "      <td>Jan 25, 2025</td>\n",
       "      <td>104,839.47</td>\n",
       "      <td>105,142.84</td>\n",
       "      <td>104,133.78</td>\n",
       "      <td>104,425.06</td>\n",
       "      <td>104,425.06</td>\n",
       "      <td>42,543,095,808</td>\n",
       "      <td>BTC-USD</td>\n",
       "    </tr>\n",
       "    <tr>\n",
       "      <th>1</th>\n",
       "      <td>Jan 24, 2025</td>\n",
       "      <td>103,965.67</td>\n",
       "      <td>107,098.55</td>\n",
       "      <td>102,772.13</td>\n",
       "      <td>104,819.48</td>\n",
       "      <td>104,819.48</td>\n",
       "      <td>52,388,229,265</td>\n",
       "      <td>BTC-USD</td>\n",
       "    </tr>\n",
       "    <tr>\n",
       "      <th>2</th>\n",
       "      <td>Jan 23, 2025</td>\n",
       "      <td>103,657.67</td>\n",
       "      <td>106,820.33</td>\n",
       "      <td>101,257.80</td>\n",
       "      <td>103,960.17</td>\n",
       "      <td>103,960.17</td>\n",
       "      <td>104,104,515,428</td>\n",
       "      <td>BTC-USD</td>\n",
       "    </tr>\n",
       "    <tr>\n",
       "      <th>3</th>\n",
       "      <td>Jan 22, 2025</td>\n",
       "      <td>106,136.38</td>\n",
       "      <td>106,294.34</td>\n",
       "      <td>103,360.27</td>\n",
       "      <td>103,653.07</td>\n",
       "      <td>103,653.07</td>\n",
       "      <td>53,878,181,052</td>\n",
       "      <td>BTC-USD</td>\n",
       "    </tr>\n",
       "    <tr>\n",
       "      <th>4</th>\n",
       "      <td>Jan 21, 2025</td>\n",
       "      <td>102,052.58</td>\n",
       "      <td>107,180.92</td>\n",
       "      <td>100,103.95</td>\n",
       "      <td>106,146.27</td>\n",
       "      <td>106,146.27</td>\n",
       "      <td>88,733,878,242</td>\n",
       "      <td>BTC-USD</td>\n",
       "    </tr>\n",
       "  </tbody>\n",
       "</table>\n",
       "</div>"
      ],
      "text/plain": [
       "           Date        Open        High         Low       Close         Adj  \\\n",
       "0  Jan 25, 2025  104,839.47  105,142.84  104,133.78  104,425.06  104,425.06   \n",
       "1  Jan 24, 2025  103,965.67  107,098.55  102,772.13  104,819.48  104,819.48   \n",
       "2  Jan 23, 2025  103,657.67  106,820.33  101,257.80  103,960.17  103,960.17   \n",
       "3  Jan 22, 2025  106,136.38  106,294.34  103,360.27  103,653.07  103,653.07   \n",
       "4  Jan 21, 2025  102,052.58  107,180.92  100,103.95  106,146.27  106,146.27   \n",
       "\n",
       "            Volume   Symbol  \n",
       "0   42,543,095,808  BTC-USD  \n",
       "1   52,388,229,265  BTC-USD  \n",
       "2  104,104,515,428  BTC-USD  \n",
       "3   53,878,181,052  BTC-USD  \n",
       "4   88,733,878,242  BTC-USD  "
      ]
     },
     "execution_count": 23,
     "metadata": {},
     "output_type": "execute_result"
    }
   ],
   "source": [
    "data = pd.read_csv(\"historical_data.csv\")\n",
    "data.head()"
   ]
  },
  {
   "cell_type": "code",
   "execution_count": 25,
   "id": "a1f21fd5-75cb-4aa6-8a84-0b21bca703f5",
   "metadata": {},
   "outputs": [
    {
     "name": "stdout",
     "output_type": "stream",
     "text": [
      "<class 'pandas.core.frame.DataFrame'>\n",
      "RangeIndex: 3660 entries, 0 to 3659\n",
      "Data columns (total 8 columns):\n",
      " #   Column  Non-Null Count  Dtype \n",
      "---  ------  --------------  ----- \n",
      " 0   Date    3660 non-null   object\n",
      " 1   Open    3660 non-null   object\n",
      " 2   High    3660 non-null   object\n",
      " 3   Low     3660 non-null   object\n",
      " 4   Close   3660 non-null   object\n",
      " 5   Adj     3660 non-null   object\n",
      " 6   Volume  3660 non-null   object\n",
      " 7   Symbol  3660 non-null   object\n",
      "dtypes: object(8)\n",
      "memory usage: 228.9+ KB\n"
     ]
    }
   ],
   "source": [
    "data.info()"
   ]
  },
  {
   "cell_type": "code",
   "execution_count": 26,
   "id": "948eb87d-b65e-4c06-af6c-4bf0496ee059",
   "metadata": {},
   "outputs": [
    {
     "data": {
      "text/plain": [
       "Date      0\n",
       "Open      0\n",
       "High      0\n",
       "Low       0\n",
       "Close     0\n",
       "Adj       0\n",
       "Volume    0\n",
       "Symbol    0\n",
       "dtype: int64"
      ]
     },
     "execution_count": 26,
     "metadata": {},
     "output_type": "execute_result"
    }
   ],
   "source": [
    "data.isnull().sum()"
   ]
  },
  {
   "cell_type": "code",
   "execution_count": 27,
   "id": "aee4db9e-1820-448d-850c-bebc81bc686e",
   "metadata": {},
   "outputs": [
    {
     "name": "stdout",
     "output_type": "stream",
     "text": [
      "0\n"
     ]
    }
   ],
   "source": [
    "#Counts the number of duplicate\n",
    "print(data.duplicated().sum())"
   ]
  },
  {
   "cell_type": "code",
   "execution_count": 29,
   "id": "030eb20b-0d3e-4335-b519-cbd1116b849a",
   "metadata": {},
   "outputs": [
    {
     "name": "stdout",
     "output_type": "stream",
     "text": [
      "['BTC-USD' 'ETH-USD' 'XRP-USD' 'USDT-USD' 'SOL-USD' 'BNB-USD' 'USDC-USD'\n",
      " 'DOGE-USD' 'ADA-USD' 'STETH-USD']\n"
     ]
    }
   ],
   "source": [
    "print(data[\"Symbol\"].unique())"
   ]
  },
  {
   "cell_type": "code",
   "execution_count": 30,
   "id": "c38e2540-c480-4e87-a0c7-8aa7f3e9ac26",
   "metadata": {},
   "outputs": [
    {
     "data": {
      "text/html": [
       "<div>\n",
       "<style scoped>\n",
       "    .dataframe tbody tr th:only-of-type {\n",
       "        vertical-align: middle;\n",
       "    }\n",
       "\n",
       "    .dataframe tbody tr th {\n",
       "        vertical-align: top;\n",
       "    }\n",
       "\n",
       "    .dataframe thead th {\n",
       "        text-align: right;\n",
       "    }\n",
       "</style>\n",
       "<table border=\"1\" class=\"dataframe\">\n",
       "  <thead>\n",
       "    <tr style=\"text-align: right;\">\n",
       "      <th></th>\n",
       "      <th>Date</th>\n",
       "      <th>Open</th>\n",
       "      <th>High</th>\n",
       "      <th>Low</th>\n",
       "      <th>Close</th>\n",
       "      <th>Adj</th>\n",
       "      <th>Volume</th>\n",
       "      <th>Symbol</th>\n",
       "    </tr>\n",
       "  </thead>\n",
       "  <tbody>\n",
       "    <tr>\n",
       "      <th>count</th>\n",
       "      <td>3660</td>\n",
       "      <td>3660</td>\n",
       "      <td>3660</td>\n",
       "      <td>3660</td>\n",
       "      <td>3660</td>\n",
       "      <td>3660</td>\n",
       "      <td>3660</td>\n",
       "      <td>3660</td>\n",
       "    </tr>\n",
       "    <tr>\n",
       "      <th>unique</th>\n",
       "      <td>366</td>\n",
       "      <td>3396</td>\n",
       "      <td>3490</td>\n",
       "      <td>3464</td>\n",
       "      <td>3395</td>\n",
       "      <td>3395</td>\n",
       "      <td>3659</td>\n",
       "      <td>10</td>\n",
       "    </tr>\n",
       "    <tr>\n",
       "      <th>top</th>\n",
       "      <td>Jan 26, 2024</td>\n",
       "      <td>0.999997</td>\n",
       "      <td>1.001001</td>\n",
       "      <td>0.999593</td>\n",
       "      <td>0.999998</td>\n",
       "      <td>0.999998</td>\n",
       "      <td>41,189,878,063</td>\n",
       "      <td>BTC-USD</td>\n",
       "    </tr>\n",
       "    <tr>\n",
       "      <th>freq</th>\n",
       "      <td>10</td>\n",
       "      <td>6</td>\n",
       "      <td>4</td>\n",
       "      <td>4</td>\n",
       "      <td>6</td>\n",
       "      <td>6</td>\n",
       "      <td>2</td>\n",
       "      <td>366</td>\n",
       "    </tr>\n",
       "  </tbody>\n",
       "</table>\n",
       "</div>"
      ],
      "text/plain": [
       "                Date      Open      High       Low     Close       Adj  \\\n",
       "count           3660      3660      3660      3660      3660      3660   \n",
       "unique           366      3396      3490      3464      3395      3395   \n",
       "top     Jan 26, 2024  0.999997  1.001001  0.999593  0.999998  0.999998   \n",
       "freq              10         6         4         4         6         6   \n",
       "\n",
       "                Volume   Symbol  \n",
       "count             3660     3660  \n",
       "unique            3659       10  \n",
       "top     41,189,878,063  BTC-USD  \n",
       "freq                 2      366  "
      ]
     },
     "execution_count": 30,
     "metadata": {},
     "output_type": "execute_result"
    }
   ],
   "source": [
    "data.describe()"
   ]
  },
  {
   "cell_type": "code",
   "execution_count": null,
   "id": "7978a3cb-e152-4c04-8e56-14de25251c9c",
   "metadata": {},
   "outputs": [],
   "source": []
  }
 ],
 "metadata": {
  "kernelspec": {
   "display_name": "Python 3 (ipykernel)",
   "language": "python",
   "name": "python3"
  },
  "language_info": {
   "codemirror_mode": {
    "name": "ipython",
    "version": 3
   },
   "file_extension": ".py",
   "mimetype": "text/x-python",
   "name": "python",
   "nbconvert_exporter": "python",
   "pygments_lexer": "ipython3",
   "version": "3.13.1"
  }
 },
 "nbformat": 4,
 "nbformat_minor": 5
}
